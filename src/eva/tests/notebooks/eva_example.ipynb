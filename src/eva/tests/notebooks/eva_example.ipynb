version https://git-lfs.github.com/spec/v1
oid sha256:7bd7b80fd24e903c4cd02bf20147104d27bd3cbca87381333569f43b978dfbd4
size 7611514
